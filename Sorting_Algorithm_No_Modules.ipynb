{
 "cells": [
  {
   "cell_type": "markdown",
   "id": "efb82cb9",
   "metadata": {},
   "source": [
    "# Fun Coding Solution: \n",
    "\n",
    "## Sort a list of integers without use of modules or 'sorted' keyword"
   ]
  },
  {
   "cell_type": "code",
   "execution_count": 158,
   "id": "f4665be3",
   "metadata": {},
   "outputs": [
    {
     "name": "stdout",
     "output_type": "stream",
     "text": [
      "Random List: [21, 58, 97, 30, 49, 39, 88, 64, 74, 61, 58] <-- Length = 11\n",
      "^ With Sort: [21, 30, 39, 49, 58, 58, 61, 64, 74, 88, 97] <-- Length = 11\n",
      "Sorted List: [21, 30, 39, 49, 58, 58, 61, 64, 74, 88, 97] <-- Length = 11 \n",
      "\n",
      "CPU times: user 787 µs, sys: 327 µs, total: 1.11 ms\n",
      "Wall time: 1.09 ms\n"
     ]
    }
   ],
   "source": [
    "%%time\n",
    "\n",
    "\n",
    "# ------- EXAMPLE LIST OF RANDOM NUMBERS - NOT REQUIRED TO USE FUNCTION ---------------------\n",
    "\n",
    "import numpy as np\n",
    "\n",
    "random_length = np.random.randint(10, 20)\n",
    "random_list = []\n",
    "\n",
    "for number in range(random_length):\n",
    "    random_number = np.random.randint(0, 100)\n",
    "    random_list.append(random_number)\n",
    "\n",
    "\n",
    "#------------------------------------------------------------\n",
    "\n",
    "#Function to sort list of numbers without using modules or 'sorted' keyword\n",
    "\n",
    "def sort_numbers(random_list):\n",
    "    sorted_list = []\n",
    "    random_list_copy = random_list[:]\n",
    "    \n",
    "    while len(random_list_copy) > 0: #Prevent index error\n",
    "        for index, number in enumerate(random_list_copy):\n",
    "            if number == min(random_list_copy):\n",
    "                min_index = random_list_copy.index(min(random_list_copy)) #find index of minimum number, and its value, remove from the random_list_copy\n",
    "                sorted_list.append(random_list_copy[min_index]) #append minimum value to new list\n",
    "                random_list_copy.pop(min_index) #remove value from list to prevent additional counts\n",
    "                new_list = random_list_copy[:]\n",
    "                random_list_copy=new_list #refresh index of popped list with new list\n",
    "    return sorted_list\n",
    "sorted_list = sort_numbers(random_list)\n",
    "\n",
    "#-----------------------------------------------------------------\n",
    "\n",
    "#Test the code\n",
    "\n",
    "print('Random List:', random_list, '<-- Length =', len(random_list))\n",
    "print('^ With Sort:', sorted(random_list), '<-- Length =', len(random_list))\n",
    "print('Sorted List:', sorted_list, '<-- Length =', len(sorted_list), '\\n')\n"
   ]
  },
  {
   "cell_type": "code",
   "execution_count": null,
   "id": "1820a6c1",
   "metadata": {},
   "outputs": [],
   "source": []
  }
 ],
 "metadata": {
  "kernelspec": {
   "display_name": "Python 3 (ipykernel)",
   "language": "python",
   "name": "python3"
  },
  "language_info": {
   "codemirror_mode": {
    "name": "ipython",
    "version": 3
   },
   "file_extension": ".py",
   "mimetype": "text/x-python",
   "name": "python",
   "nbconvert_exporter": "python",
   "pygments_lexer": "ipython3",
   "version": "3.9.12"
  }
 },
 "nbformat": 4,
 "nbformat_minor": 5
}
